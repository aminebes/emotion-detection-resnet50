{
 "cells": [
  {
   "cell_type": "code",
   "execution_count": null,
   "metadata": {},
   "outputs": [],
   "source": [
    "# Data Analysis for Emotion Detection\n",
    "\n",
    "## 1. Import Libraries\n",
    "import os\n",
    "import matplotlib.pyplot as plt\n",
    "import numpy as np\n",
    "from tensorflow.keras.preprocessing.image import ImageDataGenerator"
   ]
  },
  {
   "cell_type": "code",
   "execution_count": null,
   "metadata": {},
   "outputs": [],
   "source": [
    "# Initialize ImageDataGenerator\n",
    "data_gen = ImageDataGenerator(rescale=1.0/255)\n",
    "train_data_path = \"../data/train\"\n",
    "train_gen = data_gen.flow_from_directory(train_data_path, target_size=(96, 96), batch_size=32, class_mode='categorical')\n",
    "\n",
    "# Display a few images with labels\n",
    "images, labels = next(train_gen)\n",
    "fig, axes = plt.subplots(1, 5, figsize=(20, 20))\n",
    "for img, label, ax in zip(images[:5], labels[:5], axes):\n",
    "    ax.imshow(img)\n",
    "    ax.set_title(f\"Label: {np.argmax(label)}\")\n",
    "    ax.axis(\"off\")\n",
    "plt.show()\n"
   ]
  }
 ],
 "metadata": {
  "kernelspec": {
   "display_name": "venv",
   "language": "python",
   "name": "python3"
  },
  "language_info": {
   "name": "python",
   "version": "3.12.7"
  }
 },
 "nbformat": 4,
 "nbformat_minor": 2
}
